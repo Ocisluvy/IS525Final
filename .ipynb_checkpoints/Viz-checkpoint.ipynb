{
 "cells": [
  {
   "cell_type": "code",
   "execution_count": 1,
   "id": "ee0f8971",
   "metadata": {},
   "outputs": [],
   "source": [
    "import numpy as np\n",
    "import pandas as pd"
   ]
  },
  {
   "cell_type": "code",
   "execution_count": null,
   "id": "19999e5f",
   "metadata": {},
   "outputs": [],
   "source": [
    "df = pd.read_csv(https://raw.githubusercontent.com/Ocisluvy/IS525Final/main/NBA.csv?token=GHSAT0AAAAAAB22QYTGUHVXRRZ6PP2NREOQY4EOJFQ')"
   ]
  },
  {
   "cell_type": "code",
   "execution_count": null,
   "id": "42dcc929",
   "metadata": {},
   "outputs": [],
   "source": []
  },
  {
   "cell_type": "code",
   "execution_count": null,
   "id": "a6d6b010",
   "metadata": {},
   "outputs": [],
   "source": []
  }
 ],
 "metadata": {
  "kernelspec": {
   "display_name": "Python 3 (ipykernel)",
   "language": "python",
   "name": "python3"
  },
  "language_info": {
   "codemirror_mode": {
    "name": "ipython",
    "version": 3
   },
   "file_extension": ".py",
   "mimetype": "text/x-python",
   "name": "python",
   "nbconvert_exporter": "python",
   "pygments_lexer": "ipython3",
   "version": "3.7.12"
  }
 },
 "nbformat": 4,
 "nbformat_minor": 5
}
